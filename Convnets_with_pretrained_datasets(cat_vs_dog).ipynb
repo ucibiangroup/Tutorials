{
 "nbformat": 4,
 "nbformat_minor": 0,
 "metadata": {
  "colab": {
   "provenance": []
  },
  "kernelspec": {
   "name": "python3",
   "display_name": "Python 3"
  },
  "language_info": {
   "name": "python"
  },
  "accelerator": "GPU"
 },
 "cells": [
  {
   "cell_type": "markdown",
   "source": [
    "# M5-Convnets with pretrained datasets(cat vs dog)\n",
    "VGG16 architecture, developed by Karen Simonyan and Andrew Zisserman in 2014, a simple and widely used convnet architecture for ImageNet. Although it is a bit of an older model, far from the current state of the art and somewhat heavier than many other recent models, we chose it because its architecture is similar to what you are already familiar with, and easy to understand without introducing any new concepts. This may be your first encounter with one of these cutesie model names -- VGG, ResNet, Inception, Inception-ResNet, Xception... \n",
    "There are two ways to leverage a pre-trained network: **feature extraction** and **fine-tuning**.  "
   ],
   "metadata": {
    "id": "1i3jLOXRFsnh"
   }
  },
  {
   "cell_type": "code",
   "execution_count": null,
   "metadata": {
    "colab": {
     "base_uri": "https://localhost:8080/"
    },
    "id": "cHhL2F_TBSZ3",
    "outputId": "42c89fec-28bd-4759-c513-58f56c4109b4"
   },
   "outputs": [
    {
     "output_type": "stream",
     "name": "stdout",
     "text": [
      "2.9.0\n"
     ]
    }
   ],
   "source": [
    "import keras\n",
    "import os, shutil\n",
    "print(keras.__version__)"
   ]
  },
  {
   "cell_type": "code",
   "source": [
    "from keras.applications import VGG16\n",
    "\n",
    "conv_base = VGG16(weights='imagenet',            # specify which weight checkpoint to initialize the model from\n",
    "                  include_top=False,             # which refers to including or not the densely-connected classifier on top of the network.\n",
    "                  input_shape=(150, 150, 3))     # the shape of the image tensors that we will feed to the network"
   ],
   "metadata": {
    "colab": {
     "base_uri": "https://localhost:8080/"
    },
    "id": "WeP7eUxJLgzI",
    "outputId": "cbd03b50-c709-4b98-b155-e1d5ff72bfd7"
   },
   "execution_count": null,
   "outputs": [
    {
     "output_type": "stream",
     "name": "stdout",
     "text": [
      "Downloading data from https://storage.googleapis.com/tensorflow/keras-applications/vgg16/vgg16_weights_tf_dim_ordering_tf_kernels_notop.h5\n",
      "58889256/58889256 [==============================] - 1s 0us/step\n"
     ]
    }
   ]
  },
  {
   "cell_type": "code",
   "source": [
    "conv_base.summary()"
   ],
   "metadata": {
    "colab": {
     "base_uri": "https://localhost:8080/"
    },
    "id": "_vEqx7lLO__U",
    "outputId": "f21c6a6e-6de7-47b2-b2bf-7d923c5d814c"
   },
   "execution_count": null,
   "outputs": [
    {
     "output_type": "stream",
     "name": "stdout",
     "text": [
      "Model: \"vgg16\"\n",
      "_________________________________________________________________\n",
      " Layer (type)                Output Shape              Param #   \n",
      "=================================================================\n",
      " input_1 (InputLayer)        [(None, 150, 150, 3)]     0         \n",
      "                                                                 \n",
      " block1_conv1 (Conv2D)       (None, 150, 150, 64)      1792      \n",
      "                                                                 \n",
      " block1_conv2 (Conv2D)       (None, 150, 150, 64)      36928     \n",
      "                                                                 \n",
      " block1_pool (MaxPooling2D)  (None, 75, 75, 64)        0         \n",
      "                                                                 \n",
      " block2_conv1 (Conv2D)       (None, 75, 75, 128)       73856     \n",
      "                                                                 \n",
      " block2_conv2 (Conv2D)       (None, 75, 75, 128)       147584    \n",
      "                                                                 \n",
      " block2_pool (MaxPooling2D)  (None, 37, 37, 128)       0         \n",
      "                                                                 \n",
      " block3_conv1 (Conv2D)       (None, 37, 37, 256)       295168    \n",
      "                                                                 \n",
      " block3_conv2 (Conv2D)       (None, 37, 37, 256)       590080    \n",
      "                                                                 \n",
      " block3_conv3 (Conv2D)       (None, 37, 37, 256)       590080    \n",
      "                                                                 \n",
      " block3_pool (MaxPooling2D)  (None, 18, 18, 256)       0         \n",
      "                                                                 \n",
      " block4_conv1 (Conv2D)       (None, 18, 18, 512)       1180160   \n",
      "                                                                 \n",
      " block4_conv2 (Conv2D)       (None, 18, 18, 512)       2359808   \n",
      "                                                                 \n",
      " block4_conv3 (Conv2D)       (None, 18, 18, 512)       2359808   \n",
      "                                                                 \n",
      " block4_pool (MaxPooling2D)  (None, 9, 9, 512)         0         \n",
      "                                                                 \n",
      " block5_conv1 (Conv2D)       (None, 9, 9, 512)         2359808   \n",
      "                                                                 \n",
      " block5_conv2 (Conv2D)       (None, 9, 9, 512)         2359808   \n",
      "                                                                 \n",
      " block5_conv3 (Conv2D)       (None, 9, 9, 512)         2359808   \n",
      "                                                                 \n",
      " block5_pool (MaxPooling2D)  (None, 4, 4, 512)         0         \n",
      "                                                                 \n",
      "=================================================================\n",
      "Total params: 14,714,688\n",
      "Trainable params: 14,714,688\n",
      "Non-trainable params: 0\n",
      "_________________________________________________________________\n"
     ]
    }
   ]
  },
  {
   "cell_type": "markdown",
   "source": [
    "# 1，Feature extraction\n",
    "## What is feature extraction?\n",
    "Feature extraction consists of using the **representations** learned by a previous network to **extract interesting features** from new samples. These features are then run through a **new classifier**, which is trained from scratch.\n",
    "\n",
    "## Feature extraction parts\n",
    "As we saw previously, convnets used for image classification comprise two parts: they start with a series of pooling and convolution layers, and they end with a densely-connected classifier. The first part is called the \"**convolutional base**\" of the model. In the case of convnets, \"feature extraction\" will simply consist of taking the convolutional base of a previously-trained network, running the new data through it, and training a **new classifier on top of the output**. \n",
    "\n",
    "## Why do we do Feature extraction like this?\n",
    "The representations learned by the convolutional base are likely to be more generic and therefore more reusable. Additionally, representations found in densely-connected layers no longer contain any information about where objects are located in the input image: these layers get rid of the notion of space, whereas the object location is still described by convolutional feature maps. For problems where object location matters, densely-connected features would be largely useless.\n",
    "\n",
    "Note that the level of generality (and therefore reusability) of the representations extracted by specific convolution layers depends on the depth of the layer in the model. \n",
    "\n",
    "In our case, since the ImageNet class set did contain multiple dog and cat classes, it is likely that it would be beneficial to reuse the information contained in the densely-connected layers of the original model. However, we will chose not to, in order to cover the more general case where the class set of the new problem does not overlap with the class set of the original model."
   ],
   "metadata": {
    "id": "cHdedFasGqoN"
   }
  },
  {
   "cell_type": "markdown",
   "source": [
    "The final feature map has shape (4, 4, 512). That's the feature on top of which we will stick a densely-connected classifier. \n",
    "\n",
    "## Two ways we could proceed:  \n",
    "1, Running the **convolutional base** over our dataset, recording its **output to a Numpy array on disk**, then using this data as **input to** a standalone densely-connected **classifier** similar to those you have seen in the first chapters of this book. This solution is very fast and cheap to run, because it only requires running the convolutional base once for every input image, and the convolutional base is by far the most expensive part of the pipeline. However, for the exact same reason, this technique would not allow us to leverage data augmentation at all.  \n",
    "2, Extending the model we have (conv_base) by adding Dense layers on top, and running the whole thing end-to-end on the input data. This allows us to use data augmentation, because every input image is going through the convolutional base every time it is seen by the model. However, for this same reason, this technique is far more expensive than the first one."
   ],
   "metadata": {
    "id": "sfP0Tyu9PXwh"
   }
  },
  {
   "cell_type": "code",
   "source": [
    "'''Extract images as Numpy arrays as well as their labels by calling the predict method of the conv_base model.'''\n",
    "\n",
    "import os\n",
    "import numpy as np\n",
    "from keras.preprocessing.image import ImageDataGenerator\n",
    "\n",
    "base_dir = '/storage/tutorials/dogs-vs-cats/'\n",
    "\n",
    "train_dir = os.path.join(base_dir, 'train')\n",
    "validation_dir = os.path.join(base_dir, 'validation')\n",
    "test_dir = os.path.join(base_dir, 'test')\n",
    "\n",
    "datagen = ImageDataGenerator(rescale=1./255)\n",
    "batch_size = 20\n",
    "\n",
    "def extract_features(directory, sample_count):\n",
    "    features = np.zeros(shape=(sample_count, 4, 4, 512))\n",
    "    labels = np.zeros(shape=(sample_count))\n",
    "    generator = datagen.flow_from_directory(\n",
    "        directory,\n",
    "        target_size=(150, 150),\n",
    "        batch_size=batch_size,\n",
    "        class_mode='binary')\n",
    "    i = 0\n",
    "    for inputs_batch, labels_batch in generator:\n",
    "        features_batch = conv_base.predict(inputs_batch)\n",
    "        features[i * batch_size : (i + 1) * batch_size] = features_batch\n",
    "        labels[i * batch_size : (i + 1) * batch_size] = labels_batch\n",
    "        i += 1\n",
    "        if i * batch_size >= sample_count:\n",
    "            # Note that since generators yield data indefinitely in a loop,\n",
    "            # we must `break` after every image has been seen once.\n",
    "            break\n",
    "    return features, labels\n",
    "\n",
    "train_features, train_labels = extract_features(train_dir, 2000)\n",
    "validation_features, validation_labels = extract_features(validation_dir, 1000)\n",
    "test_features, test_labels = extract_features(test_dir, 1000)"
   ],
   "metadata": {
    "colab": {
     "base_uri": "https://localhost:8080/"
    },
    "id": "9Tf6jJHhP0Zi",
    "outputId": "57adee75-ec76-491e-ab6a-0a99457e3db6"
   },
   "execution_count": null,
   "outputs": [
    {
     "output_type": "stream",
     "name": "stdout",
     "text": [
      "Found 2000 images belonging to 2 classes.\n",
      "1/1 [==============================] - 9s 9s/step\n",
      "1/1 [==============================] - 0s 21ms/step\n",
      "1/1 [==============================] - 0s 20ms/step\n",
      "1/1 [==============================] - 0s 23ms/step\n",
      "1/1 [==============================] - 0s 20ms/step\n",
      "1/1 [==============================] - 0s 26ms/step\n",
      "1/1 [==============================] - 0s 21ms/step\n",
      "1/1 [==============================] - 0s 21ms/step\n",
      "1/1 [==============================] - 0s 17ms/step\n",
      "1/1 [==============================] - 0s 21ms/step\n",
      "1/1 [==============================] - 0s 19ms/step\n",
      "1/1 [==============================] - 0s 20ms/step\n",
      "1/1 [==============================] - 0s 20ms/step\n",
      "1/1 [==============================] - 0s 21ms/step\n",
      "1/1 [==============================] - 0s 22ms/step\n",
      "1/1 [==============================] - 0s 17ms/step\n",
      "1/1 [==============================] - 0s 25ms/step\n",
      "1/1 [==============================] - 0s 19ms/step\n",
      "1/1 [==============================] - 0s 18ms/step\n",
      "1/1 [==============================] - 0s 21ms/step\n",
      "1/1 [==============================] - 0s 18ms/step\n",
      "1/1 [==============================] - 0s 18ms/step\n",
      "1/1 [==============================] - 0s 19ms/step\n",
      "1/1 [==============================] - 0s 18ms/step\n",
      "1/1 [==============================] - 0s 20ms/step\n",
      "1/1 [==============================] - 0s 19ms/step\n",
      "1/1 [==============================] - 0s 19ms/step\n",
      "1/1 [==============================] - 0s 29ms/step\n",
      "1/1 [==============================] - 0s 18ms/step\n",
      "1/1 [==============================] - 0s 20ms/step\n",
      "1/1 [==============================] - 0s 18ms/step\n",
      "1/1 [==============================] - 0s 20ms/step\n",
      "1/1 [==============================] - 0s 22ms/step\n",
      "1/1 [==============================] - 0s 19ms/step\n",
      "1/1 [==============================] - 0s 19ms/step\n",
      "1/1 [==============================] - 0s 20ms/step\n",
      "1/1 [==============================] - 0s 20ms/step\n",
      "1/1 [==============================] - 0s 19ms/step\n",
      "1/1 [==============================] - 0s 21ms/step\n",
      "1/1 [==============================] - 0s 20ms/step\n",
      "1/1 [==============================] - 0s 22ms/step\n",
      "1/1 [==============================] - 0s 21ms/step\n",
      "1/1 [==============================] - 0s 21ms/step\n",
      "1/1 [==============================] - 0s 19ms/step\n",
      "1/1 [==============================] - 0s 20ms/step\n",
      "1/1 [==============================] - 0s 19ms/step\n",
      "1/1 [==============================] - 0s 19ms/step\n",
      "1/1 [==============================] - 0s 19ms/step\n",
      "1/1 [==============================] - 0s 18ms/step\n",
      "1/1 [==============================] - 0s 19ms/step\n",
      "1/1 [==============================] - 0s 20ms/step\n",
      "1/1 [==============================] - 0s 18ms/step\n",
      "1/1 [==============================] - 0s 18ms/step\n",
      "1/1 [==============================] - 0s 18ms/step\n",
      "1/1 [==============================] - 0s 20ms/step\n",
      "1/1 [==============================] - 0s 22ms/step\n",
      "1/1 [==============================] - 0s 21ms/step\n",
      "1/1 [==============================] - 0s 18ms/step\n",
      "1/1 [==============================] - 0s 23ms/step\n",
      "1/1 [==============================] - 0s 21ms/step\n",
      "1/1 [==============================] - 0s 19ms/step\n",
      "1/1 [==============================] - 0s 19ms/step\n",
      "1/1 [==============================] - 0s 18ms/step\n",
      "1/1 [==============================] - 0s 19ms/step\n",
      "1/1 [==============================] - 0s 23ms/step\n",
      "1/1 [==============================] - 0s 18ms/step\n",
      "1/1 [==============================] - 0s 22ms/step\n",
      "1/1 [==============================] - 0s 21ms/step\n",
      "1/1 [==============================] - 0s 19ms/step\n",
      "1/1 [==============================] - 0s 20ms/step\n",
      "1/1 [==============================] - 0s 19ms/step\n",
      "1/1 [==============================] - 0s 19ms/step\n",
      "1/1 [==============================] - 0s 19ms/step\n",
      "1/1 [==============================] - 0s 18ms/step\n",
      "1/1 [==============================] - 0s 26ms/step\n",
      "1/1 [==============================] - 0s 19ms/step\n",
      "1/1 [==============================] - 0s 18ms/step\n",
      "1/1 [==============================] - 0s 20ms/step\n",
      "1/1 [==============================] - 0s 19ms/step\n",
      "1/1 [==============================] - 0s 18ms/step\n",
      "1/1 [==============================] - 0s 22ms/step\n",
      "1/1 [==============================] - 0s 18ms/step\n",
      "1/1 [==============================] - 0s 19ms/step\n",
      "1/1 [==============================] - 0s 19ms/step\n",
      "1/1 [==============================] - 0s 18ms/step\n",
      "1/1 [==============================] - 0s 24ms/step\n",
      "1/1 [==============================] - 0s 18ms/step\n",
      "1/1 [==============================] - 0s 28ms/step\n",
      "1/1 [==============================] - 0s 22ms/step\n",
      "1/1 [==============================] - 0s 19ms/step\n",
      "1/1 [==============================] - 0s 19ms/step\n",
      "1/1 [==============================] - 0s 20ms/step\n",
      "1/1 [==============================] - 0s 19ms/step\n",
      "1/1 [==============================] - 0s 18ms/step\n",
      "1/1 [==============================] - 0s 19ms/step\n",
      "1/1 [==============================] - 0s 19ms/step\n",
      "1/1 [==============================] - 0s 19ms/step\n",
      "1/1 [==============================] - 0s 21ms/step\n",
      "1/1 [==============================] - 0s 19ms/step\n",
      "1/1 [==============================] - 0s 23ms/step\n",
      "Found 1000 images belonging to 2 classes.\n",
      "1/1 [==============================] - 0s 20ms/step\n",
      "1/1 [==============================] - 0s 21ms/step\n",
      "1/1 [==============================] - 0s 18ms/step\n",
      "1/1 [==============================] - 0s 18ms/step\n",
      "1/1 [==============================] - 0s 20ms/step\n",
      "1/1 [==============================] - 0s 20ms/step\n",
      "1/1 [==============================] - 0s 18ms/step\n",
      "1/1 [==============================] - 0s 19ms/step\n",
      "1/1 [==============================] - 0s 22ms/step\n",
      "1/1 [==============================] - 0s 18ms/step\n",
      "1/1 [==============================] - 0s 19ms/step\n",
      "1/1 [==============================] - 0s 18ms/step\n",
      "1/1 [==============================] - 0s 18ms/step\n",
      "1/1 [==============================] - 0s 19ms/step\n",
      "1/1 [==============================] - 0s 19ms/step\n",
      "1/1 [==============================] - 0s 19ms/step\n",
      "1/1 [==============================] - 0s 19ms/step\n",
      "1/1 [==============================] - 0s 18ms/step\n",
      "1/1 [==============================] - 0s 20ms/step\n",
      "1/1 [==============================] - 0s 21ms/step\n",
      "1/1 [==============================] - 0s 18ms/step\n",
      "1/1 [==============================] - 0s 18ms/step\n",
      "1/1 [==============================] - 0s 18ms/step\n",
      "1/1 [==============================] - 0s 18ms/step\n",
      "1/1 [==============================] - 0s 19ms/step\n",
      "1/1 [==============================] - 0s 19ms/step\n",
      "1/1 [==============================] - 0s 24ms/step\n",
      "1/1 [==============================] - 0s 18ms/step\n",
      "1/1 [==============================] - 0s 23ms/step\n",
      "1/1 [==============================] - 0s 21ms/step\n",
      "1/1 [==============================] - 0s 20ms/step\n",
      "1/1 [==============================] - 0s 19ms/step\n",
      "1/1 [==============================] - 0s 18ms/step\n",
      "1/1 [==============================] - 0s 19ms/step\n",
      "1/1 [==============================] - 0s 17ms/step\n",
      "1/1 [==============================] - 0s 21ms/step\n",
      "1/1 [==============================] - 0s 20ms/step\n",
      "1/1 [==============================] - 0s 18ms/step\n",
      "1/1 [==============================] - 0s 23ms/step\n",
      "1/1 [==============================] - 0s 18ms/step\n",
      "1/1 [==============================] - 0s 19ms/step\n",
      "1/1 [==============================] - 0s 19ms/step\n",
      "1/1 [==============================] - 0s 23ms/step\n",
      "1/1 [==============================] - 0s 18ms/step\n",
      "1/1 [==============================] - 0s 18ms/step\n",
      "1/1 [==============================] - 0s 19ms/step\n",
      "1/1 [==============================] - 0s 20ms/step\n",
      "1/1 [==============================] - 0s 19ms/step\n",
      "1/1 [==============================] - 0s 18ms/step\n",
      "1/1 [==============================] - 0s 18ms/step\n",
      "Found 1000 images belonging to 2 classes.\n",
      "1/1 [==============================] - 0s 20ms/step\n",
      "1/1 [==============================] - 0s 18ms/step\n",
      "1/1 [==============================] - 0s 18ms/step\n",
      "1/1 [==============================] - 0s 18ms/step\n",
      "1/1 [==============================] - 0s 23ms/step\n",
      "1/1 [==============================] - 0s 18ms/step\n",
      "1/1 [==============================] - 0s 22ms/step\n",
      "1/1 [==============================] - 0s 18ms/step\n",
      "1/1 [==============================] - 0s 23ms/step\n",
      "1/1 [==============================] - 0s 18ms/step\n",
      "1/1 [==============================] - 0s 20ms/step\n",
      "1/1 [==============================] - 0s 18ms/step\n",
      "1/1 [==============================] - 0s 19ms/step\n",
      "1/1 [==============================] - 0s 18ms/step\n",
      "1/1 [==============================] - 0s 22ms/step\n",
      "1/1 [==============================] - 0s 19ms/step\n",
      "1/1 [==============================] - 0s 20ms/step\n",
      "1/1 [==============================] - 0s 19ms/step\n",
      "1/1 [==============================] - 0s 22ms/step\n",
      "1/1 [==============================] - 0s 18ms/step\n",
      "1/1 [==============================] - 0s 19ms/step\n",
      "1/1 [==============================] - 0s 19ms/step\n",
      "1/1 [==============================] - 0s 19ms/step\n",
      "1/1 [==============================] - 0s 18ms/step\n",
      "1/1 [==============================] - 0s 18ms/step\n",
      "1/1 [==============================] - 0s 18ms/step\n",
      "1/1 [==============================] - 0s 25ms/step\n",
      "1/1 [==============================] - 0s 19ms/step\n",
      "1/1 [==============================] - 0s 20ms/step\n",
      "1/1 [==============================] - 0s 22ms/step\n",
      "1/1 [==============================] - 0s 20ms/step\n",
      "1/1 [==============================] - 0s 18ms/step\n",
      "1/1 [==============================] - 0s 20ms/step\n",
      "1/1 [==============================] - 0s 23ms/step\n",
      "1/1 [==============================] - 0s 21ms/step\n",
      "1/1 [==============================] - 0s 20ms/step\n",
      "1/1 [==============================] - 0s 19ms/step\n",
      "1/1 [==============================] - 0s 19ms/step\n",
      "1/1 [==============================] - 0s 21ms/step\n",
      "1/1 [==============================] - 0s 19ms/step\n",
      "1/1 [==============================] - 0s 20ms/step\n",
      "1/1 [==============================] - 0s 18ms/step\n",
      "1/1 [==============================] - 0s 18ms/step\n",
      "1/1 [==============================] - 0s 19ms/step\n",
      "1/1 [==============================] - 0s 19ms/step\n",
      "1/1 [==============================] - 0s 22ms/step\n",
      "1/1 [==============================] - 0s 17ms/step\n",
      "1/1 [==============================] - 0s 22ms/step\n",
      "1/1 [==============================] - 0s 18ms/step\n",
      "1/1 [==============================] - 0s 21ms/step\n"
     ]
    }
   ]
  },
  {
   "cell_type": "code",
   "source": [
    "# The extracted features are currently of shape (samples, 4, 4, 512). \n",
    "# We will feed them to a densely-connected classifier, so first we must flatten them to (samples, 8192):\n",
    "train_features = np.reshape(train_features, (2000, 4 * 4 * 512))\n",
    "validation_features = np.reshape(validation_features, (1000, 4 * 4 * 512))\n",
    "test_features = np.reshape(test_features, (1000, 4 * 4 * 512))\n",
    "\n",
    "# densely-connected classifier with dropout for regularization, and train it on the data and labels that we just recorded:\n",
    "from keras import models\n",
    "from keras import layers\n",
    "from keras import optimizers\n",
    "\n",
    "model = models.Sequential()\n",
    "model.add(layers.Dense(256, activation='relu', input_dim=4 * 4 * 512))\n",
    "model.add(layers.Dropout(0.5))\n",
    "model.add(layers.Dense(1, activation='sigmoid'))\n",
    "\n",
    "model.compile(optimizer=optimizers.RMSprop(lr=2e-5),\n",
    "              loss='binary_crossentropy',\n",
    "              metrics=['acc'])\n",
    "\n",
    "history = model.fit(train_features, train_labels,\n",
    "                    epochs=30,\n",
    "                    batch_size=20,\n",
    "                    validation_data=(validation_features, validation_labels))"
   ],
   "metadata": {
    "colab": {
     "base_uri": "https://localhost:8080/"
    },
    "id": "J8B5gYtyZ25W",
    "outputId": "b33a1641-7e71-4944-81ce-cac205d762eb"
   },
   "execution_count": null,
   "outputs": [
    {
     "output_type": "stream",
     "name": "stdout",
     "text": [
      "Epoch 1/30\n"
     ]
    },
    {
     "output_type": "stream",
     "name": "stderr",
     "text": [
      "/usr/local/lib/python3.7/dist-packages/keras/optimizers/optimizer_v2/rmsprop.py:135: UserWarning: The `lr` argument is deprecated, use `learning_rate` instead.\n",
      "  super(RMSprop, self).__init__(name, **kwargs)\n"
     ]
    },
    {
     "output_type": "stream",
     "name": "stdout",
     "text": [
      "100/100 [==============================] - 4s 29ms/step - loss: 0.5770 - acc: 0.6865 - val_loss: 0.4224 - val_acc: 0.8300\n",
      "Epoch 2/30\n",
      "100/100 [==============================] - 2s 24ms/step - loss: 0.4078 - acc: 0.8240 - val_loss: 0.3393 - val_acc: 0.8760\n",
      "Epoch 3/30\n",
      "100/100 [==============================] - 6s 60ms/step - loss: 0.3454 - acc: 0.8560 - val_loss: 0.3127 - val_acc: 0.8800\n",
      "Epoch 4/30\n",
      "100/100 [==============================] - 7s 66ms/step - loss: 0.3063 - acc: 0.8755 - val_loss: 0.2913 - val_acc: 0.8850\n",
      "Epoch 5/30\n",
      "100/100 [==============================] - 6s 63ms/step - loss: 0.2797 - acc: 0.8885 - val_loss: 0.2707 - val_acc: 0.8970\n",
      "Epoch 6/30\n",
      "100/100 [==============================] - 5s 46ms/step - loss: 0.2684 - acc: 0.8920 - val_loss: 0.2750 - val_acc: 0.8860\n",
      "Epoch 7/30\n",
      "100/100 [==============================] - 3s 27ms/step - loss: 0.2435 - acc: 0.9095 - val_loss: 0.2566 - val_acc: 0.8990\n",
      "Epoch 8/30\n",
      "100/100 [==============================] - 3s 25ms/step - loss: 0.2267 - acc: 0.9165 - val_loss: 0.2502 - val_acc: 0.9010\n",
      "Epoch 9/30\n",
      "100/100 [==============================] - 3s 26ms/step - loss: 0.2171 - acc: 0.9190 - val_loss: 0.2467 - val_acc: 0.9000\n",
      "Epoch 10/30\n",
      "100/100 [==============================] - 3s 25ms/step - loss: 0.1965 - acc: 0.9295 - val_loss: 0.2521 - val_acc: 0.8950\n",
      "Epoch 11/30\n",
      "100/100 [==============================] - 3s 25ms/step - loss: 0.1896 - acc: 0.9325 - val_loss: 0.2410 - val_acc: 0.9030\n",
      "Epoch 12/30\n",
      "100/100 [==============================] - 3s 25ms/step - loss: 0.1817 - acc: 0.9355 - val_loss: 0.2397 - val_acc: 0.9050\n",
      "Epoch 13/30\n",
      "100/100 [==============================] - 4s 37ms/step - loss: 0.1753 - acc: 0.9380 - val_loss: 0.2458 - val_acc: 0.8970\n",
      "Epoch 14/30\n",
      "100/100 [==============================] - 3s 28ms/step - loss: 0.1666 - acc: 0.9370 - val_loss: 0.2359 - val_acc: 0.9060\n",
      "Epoch 15/30\n",
      "100/100 [==============================] - 2s 25ms/step - loss: 0.1624 - acc: 0.9450 - val_loss: 0.2369 - val_acc: 0.9020\n",
      "Epoch 16/30\n",
      "100/100 [==============================] - 2s 24ms/step - loss: 0.1463 - acc: 0.9500 - val_loss: 0.2372 - val_acc: 0.9030\n",
      "Epoch 17/30\n",
      "100/100 [==============================] - 2s 25ms/step - loss: 0.1420 - acc: 0.9520 - val_loss: 0.2352 - val_acc: 0.9040\n",
      "Epoch 18/30\n",
      "100/100 [==============================] - 2s 25ms/step - loss: 0.1411 - acc: 0.9485 - val_loss: 0.2362 - val_acc: 0.9030\n",
      "Epoch 19/30\n",
      "100/100 [==============================] - 2s 25ms/step - loss: 0.1266 - acc: 0.9610 - val_loss: 0.2379 - val_acc: 0.9010\n",
      "Epoch 20/30\n",
      "100/100 [==============================] - 2s 25ms/step - loss: 0.1288 - acc: 0.9550 - val_loss: 0.2346 - val_acc: 0.9030\n",
      "Epoch 21/30\n",
      "100/100 [==============================] - 2s 25ms/step - loss: 0.1224 - acc: 0.9575 - val_loss: 0.2359 - val_acc: 0.9030\n",
      "Epoch 22/30\n",
      "100/100 [==============================] - 3s 25ms/step - loss: 0.1213 - acc: 0.9625 - val_loss: 0.2396 - val_acc: 0.8980\n",
      "Epoch 23/30\n",
      "100/100 [==============================] - 2s 25ms/step - loss: 0.1115 - acc: 0.9665 - val_loss: 0.2385 - val_acc: 0.9010\n",
      "Epoch 24/30\n",
      "100/100 [==============================] - 2s 25ms/step - loss: 0.1069 - acc: 0.9685 - val_loss: 0.2336 - val_acc: 0.9040\n",
      "Epoch 25/30\n",
      "100/100 [==============================] - 3s 25ms/step - loss: 0.1084 - acc: 0.9640 - val_loss: 0.2395 - val_acc: 0.8990\n",
      "Epoch 26/30\n",
      "100/100 [==============================] - 2s 25ms/step - loss: 0.0982 - acc: 0.9700 - val_loss: 0.2377 - val_acc: 0.9010\n",
      "Epoch 27/30\n",
      "100/100 [==============================] - 2s 25ms/step - loss: 0.0956 - acc: 0.9710 - val_loss: 0.2448 - val_acc: 0.9000\n",
      "Epoch 28/30\n",
      "100/100 [==============================] - 2s 24ms/step - loss: 0.0925 - acc: 0.9730 - val_loss: 0.2488 - val_acc: 0.9000\n",
      "Epoch 29/30\n",
      "100/100 [==============================] - 2s 25ms/step - loss: 0.0903 - acc: 0.9690 - val_loss: 0.2380 - val_acc: 0.9030\n",
      "Epoch 30/30\n",
      "100/100 [==============================] - 2s 24ms/step - loss: 0.0868 - acc: 0.9760 - val_loss: 0.2439 - val_acc: 0.9020\n"
     ]
    }
   ]
  },
  {
   "cell_type": "code",
   "source": [
    "# save models after training:\n",
    "model.save('Convnets with feature extraction pretrained datasets(cat vs dog).h5')"
   ],
   "metadata": {
    "id": "JO999zGMbRiN"
   },
   "execution_count": null,
   "outputs": []
  },
  {
   "cell_type": "code",
   "source": [
    "# plot loss\n",
    "import matplotlib.pyplot as plt\n",
    "\n",
    "acc = history.history['acc']\n",
    "val_acc = history.history['val_acc']\n",
    "loss = history.history['loss']\n",
    "val_loss = history.history['val_loss']\n",
    "\n",
    "epochs = range(len(acc))\n",
    "\n",
    "plt.plot(epochs, acc, 'bo', label='Training acc')\n",
    "plt.plot(epochs, val_acc, 'b', label='Validation acc')\n",
    "plt.title('Training and validation accuracy')\n",
    "plt.legend()\n",
    "\n",
    "plt.figure()\n",
    "\n",
    "plt.plot(epochs, loss, 'bo', label='Training loss')\n",
    "plt.plot(epochs, val_loss, 'b', label='Validation loss')\n",
    "plt.title('Training and validation loss')\n",
    "plt.legend()\n",
    "\n",
    "plt.show()"
   ],
   "metadata": {
    "colab": {
     "base_uri": "https://localhost:8080/",
     "height": 545
    },
    "id": "gpyjn4NJaeEt",
    "outputId": "302f9aeb-22fa-4740-f623-d9ac934c2052"
   },
   "execution_count": null,
   "outputs": [
    {
     "output_type": "display_data",
     "data": {
      "text/plain": [
       "<Figure size 432x288 with 1 Axes>"
      ],
      "image/png": "[encoded data removed]"
     },
     "metadata": {
      "needs_background": "light"
     }
    },
    {
     "output_type": "display_data",
     "data": {
      "text/plain": [
       "<Figure size 432x288 with 1 Axes>"
      ],
      "image/png": "[encoded data removed]"
     },
     "metadata": {
      "needs_background": "light"
     }
    }
   ]
  },
  {
   "cell_type": "markdown",
   "source": [
    "Validation accuracy of about 90%(last simple network 81%). However, overfitting from 5 -- with dropout without **augmentation**, which is **essential** to preventing overfitting with **small image** datasets."
   ],
   "metadata": {
    "id": "_l9cF6j3bFBz"
   }
  },
  {
   "cell_type": "markdown",
   "source": [
    "# Fine tuning\n",
    "### turn on GPU setting\n",
    "much slower and more expensive, but leverage data augmentation : extending the conv_base model and running it end-to-end on the inputs. "
   ],
   "metadata": {
    "id": "Er1vSKBIdi1c"
   }
  },
  {
   "cell_type": "code",
   "source": [
    "# add a model (like our conv_base) to a Sequential model just like add a layer\n",
    "from keras import models\n",
    "from keras import layers\n",
    "\n",
    "model = models.Sequential()\n",
    "model.add(conv_base)\n",
    "model.add(layers.Flatten())\n",
    "model.add(layers.Dense(256, activation='relu'))\n",
    "model.add(layers.Dense(1, activation='sigmoid'))"
   ],
   "metadata": {
    "id": "h4y5UtoadiKa"
   },
   "execution_count": null,
   "outputs": []
  },
  {
   "cell_type": "code",
   "source": [
    "model.summary()"
   ],
   "metadata": {
    "colab": {
     "base_uri": "https://localhost:8080/"
    },
    "id": "DjBUXcskdaJy",
    "outputId": "e360a9b2-c841-4d6a-ce9f-eb425c8bf49e"
   },
   "execution_count": null,
   "outputs": [
    {
     "output_type": "stream",
     "name": "stdout",
     "text": [
      "Model: \"sequential_1\"\n",
      "_________________________________________________________________\n",
      " Layer (type)                Output Shape              Param #   \n",
      "=================================================================\n",
      " vgg16 (Functional)          (None, 4, 4, 512)         14714688  \n",
      "                                                                 \n",
      " flatten (Flatten)           (None, 8192)              0         \n",
      "                                                                 \n",
      " dense_2 (Dense)             (None, 256)               2097408   \n",
      "                                                                 \n",
      " dense_3 (Dense)             (None, 1)                 257       \n",
      "                                                                 \n",
      "=================================================================\n",
      "Total params: 16,812,353\n",
      "Trainable params: 16,812,353\n",
      "Non-trainable params: 0\n",
      "_________________________________________________________________\n"
     ]
    }
   ]
  },
  {
   "cell_type": "markdown",
   "source": [
    "The convolutional base of VGG16 has 14,714,688 parameters. The classifier we are adding on top has 2 million parameters.\n",
    "\n",
    "# Freeze the convolutional base. \n",
    "\"Freezing\" a layer or set of layers means preventing their weights from getting updated during training. If we don't do this, then the representations that were previously learned by the convolutional base would get modified during training. Since the Dense layers on top are randomly initialized, very large weight updates would be propagated through the network, effectively destroying the representations previously learned."
   ],
   "metadata": {
    "id": "LyeLeC2feTDn"
   }
  },
  {
   "cell_type": "code",
   "source": [
    "# In Keras, freezing a network is done by setting its trainable attribute to False:\n",
    "print('This is the number of trainable weights '\n",
    "      'before freezing the conv base:', len(model.trainable_weights)) #30"
   ],
   "metadata": {
    "colab": {
     "base_uri": "https://localhost:8080/"
    },
    "id": "QCQ7HvmQem8Y",
    "outputId": "4106ca35-f5fa-4d46-de91-98f66a676f17"
   },
   "execution_count": null,
   "outputs": [
    {
     "output_type": "stream",
     "name": "stdout",
     "text": [
      "This is the number of trainable weights before freezing the conv base: 30\n"
     ]
    }
   ]
  },
  {
   "cell_type": "code",
   "source": [
    "# Only the weights from the two Dense layers that we added will be trained. \n",
    "# That's a total of four weight tensors: two per layer (the main weight matrix and the bias vector). \n",
    "conv_base.trainable = False "
   ],
   "metadata": {
    "id": "LoHaV8-Be79R"
   },
   "execution_count": null,
   "outputs": []
  },
  {
   "cell_type": "code",
   "source": [
    "print('This is the number of trainable weights '\n",
    "      'after freezing the conv base:', len(model.trainable_weights))"
   ],
   "metadata": {
    "colab": {
     "base_uri": "https://localhost:8080/"
    },
    "id": "yMc5MQtte9WM",
    "outputId": "f50cacb0-0a65-4b7f-c138-1498163e4631"
   },
   "execution_count": null,
   "outputs": [
    {
     "output_type": "stream",
     "name": "stdout",
     "text": [
      "This is the number of trainable weights after freezing the conv base: 4\n"
     ]
    }
   ]
  },
  {
   "cell_type": "code",
   "source": [
    "# Training our model, with data augmentation  \n",
    "from keras.preprocessing.image import ImageDataGenerator\n",
    "from keras import models\n",
    "from keras import layers\n",
    "from keras import optimizers\n",
    "\n",
    "train_datagen = ImageDataGenerator(\n",
    "      rescale=1./255,\n",
    "      rotation_range=40,\n",
    "      width_shift_range=0.2,\n",
    "      height_shift_range=0.2,\n",
    "      shear_range=0.2,\n",
    "      zoom_range=0.2,\n",
    "      horizontal_flip=True,\n",
    "      fill_mode='nearest')\n",
    "\n",
    "# Note that the validation data should not be augmented!\n",
    "test_datagen = ImageDataGenerator(rescale=1./255)\n",
    "\n",
    "train_generator = train_datagen.flow_from_directory(\n",
    "        # This is the target directory\n",
    "        train_dir,\n",
    "        # All images will be resized to 150x150\n",
    "        target_size=(150, 150),\n",
    "        batch_size=20,\n",
    "        # Since we use binary_crossentropy loss, we need binary labels\n",
    "        class_mode='binary')\n",
    "\n",
    "validation_generator = test_datagen.flow_from_directory(\n",
    "        validation_dir,\n",
    "        target_size=(150, 150),\n",
    "        batch_size=20,\n",
    "        class_mode='binary')\n",
    "\n",
    "model.compile(loss='binary_crossentropy',\n",
    "              optimizer=optimizers.RMSprop(lr=2e-5),\n",
    "              metrics=['acc'])\n",
    "\n",
    "history = model.fit_generator(\n",
    "      train_generator,\n",
    "      steps_per_epoch=100,\n",
    "      epochs=30,\n",
    "      validation_data=validation_generator,\n",
    "      validation_steps=50,\n",
    "      verbose=2)"
   ],
   "metadata": {
    "colab": {
     "base_uri": "https://localhost:8080/"
    },
    "id": "CcEKglCYfdV2",
    "outputId": "35fe6519-445d-4eb9-ff53-18c0da38ff91"
   },
   "execution_count": null,
   "outputs": [
    {
     "output_type": "stream",
     "name": "stdout",
     "text": [
      "Found 2000 images belonging to 2 classes.\n",
      "Found 1000 images belonging to 2 classes.\n"
     ]
    },
    {
     "output_type": "stream",
     "name": "stderr",
     "text": [
      "/usr/local/lib/python3.7/dist-packages/keras/optimizers/optimizer_v2/rmsprop.py:135: UserWarning: The `lr` argument is deprecated, use `learning_rate` instead.\n",
      "  super(RMSprop, self).__init__(name, **kwargs)\n",
      "/usr/local/lib/python3.7/dist-packages/ipykernel_launcher.py:45: UserWarning: `Model.fit_generator` is deprecated and will be removed in a future version. Please use `Model.fit`, which supports generators.\n"
     ]
    },
    {
     "output_type": "stream",
     "name": "stdout",
     "text": [
      "Epoch 1/30\n",
      "100/100 - 493s - loss: 0.5976 - acc: 0.6765 - val_loss: 0.4552 - val_acc: 0.8260 - 493s/epoch - 5s/step\n",
      "Epoch 2/30\n",
      "100/100 - 22s - loss: 0.4826 - acc: 0.7865 - val_loss: 0.3735 - val_acc: 0.8600 - 22s/epoch - 216ms/step\n",
      "Epoch 3/30\n",
      "100/100 - 22s - loss: 0.4466 - acc: 0.7975 - val_loss: 0.3364 - val_acc: 0.8710 - 22s/epoch - 218ms/step\n",
      "Epoch 4/30\n",
      "100/100 - 23s - loss: 0.4068 - acc: 0.8235 - val_loss: 0.3231 - val_acc: 0.8660 - 23s/epoch - 226ms/step\n",
      "Epoch 5/30\n",
      "100/100 - 22s - loss: 0.3802 - acc: 0.8385 - val_loss: 0.2941 - val_acc: 0.8840 - 22s/epoch - 215ms/step\n",
      "Epoch 6/30\n",
      "100/100 - 22s - loss: 0.3779 - acc: 0.8385 - val_loss: 0.2921 - val_acc: 0.8760 - 22s/epoch - 216ms/step\n",
      "Epoch 7/30\n",
      "100/100 - 22s - loss: 0.3593 - acc: 0.8405 - val_loss: 0.2772 - val_acc: 0.8840 - 22s/epoch - 218ms/step\n",
      "Epoch 8/30\n",
      "100/100 - 22s - loss: 0.3589 - acc: 0.8485 - val_loss: 0.2789 - val_acc: 0.8870 - 22s/epoch - 224ms/step\n",
      "Epoch 9/30\n",
      "100/100 - 22s - loss: 0.3480 - acc: 0.8555 - val_loss: 0.2632 - val_acc: 0.8970 - 22s/epoch - 215ms/step\n",
      "Epoch 10/30\n",
      "100/100 - 22s - loss: 0.3276 - acc: 0.8595 - val_loss: 0.2741 - val_acc: 0.8820 - 22s/epoch - 218ms/step\n",
      "Epoch 11/30\n",
      "100/100 - 26s - loss: 0.3428 - acc: 0.8525 - val_loss: 0.2552 - val_acc: 0.8970 - 26s/epoch - 257ms/step\n",
      "Epoch 12/30\n",
      "100/100 - 23s - loss: 0.3316 - acc: 0.8500 - val_loss: 0.2520 - val_acc: 0.8960 - 23s/epoch - 227ms/step\n",
      "Epoch 13/30\n",
      "100/100 - 26s - loss: 0.3253 - acc: 0.8600 - val_loss: 0.2513 - val_acc: 0.8990 - 26s/epoch - 261ms/step\n",
      "Epoch 14/30\n",
      "100/100 - 22s - loss: 0.3162 - acc: 0.8680 - val_loss: 0.2432 - val_acc: 0.9020 - 22s/epoch - 215ms/step\n",
      "Epoch 15/30\n",
      "100/100 - 22s - loss: 0.3240 - acc: 0.8605 - val_loss: 0.2415 - val_acc: 0.9040 - 22s/epoch - 216ms/step\n",
      "Epoch 16/30\n",
      "100/100 - 24s - loss: 0.3101 - acc: 0.8670 - val_loss: 0.2496 - val_acc: 0.9040 - 24s/epoch - 240ms/step\n",
      "Epoch 17/30\n",
      "100/100 - 22s - loss: 0.3122 - acc: 0.8655 - val_loss: 0.2397 - val_acc: 0.9070 - 22s/epoch - 217ms/step\n",
      "Epoch 18/30\n",
      "100/100 - 21s - loss: 0.3028 - acc: 0.8635 - val_loss: 0.2516 - val_acc: 0.9000 - 21s/epoch - 215ms/step\n",
      "Epoch 19/30\n",
      "100/100 - 21s - loss: 0.3038 - acc: 0.8665 - val_loss: 0.2352 - val_acc: 0.9120 - 21s/epoch - 215ms/step\n",
      "Epoch 20/30\n",
      "100/100 - 22s - loss: 0.3061 - acc: 0.8630 - val_loss: 0.2378 - val_acc: 0.9070 - 22s/epoch - 216ms/step\n",
      "Epoch 21/30\n",
      "100/100 - 25s - loss: 0.3017 - acc: 0.8615 - val_loss: 0.2441 - val_acc: 0.9050 - 25s/epoch - 252ms/step\n",
      "Epoch 22/30\n",
      "100/100 - 24s - loss: 0.3041 - acc: 0.8695 - val_loss: 0.2336 - val_acc: 0.9100 - 24s/epoch - 235ms/step\n",
      "Epoch 23/30\n",
      "100/100 - 22s - loss: 0.2930 - acc: 0.8765 - val_loss: 0.2329 - val_acc: 0.9110 - 22s/epoch - 215ms/step\n",
      "Epoch 24/30\n",
      "100/100 - 22s - loss: 0.2993 - acc: 0.8740 - val_loss: 0.2333 - val_acc: 0.9080 - 22s/epoch - 215ms/step\n",
      "Epoch 25/30\n",
      "100/100 - 22s - loss: 0.2951 - acc: 0.8740 - val_loss: 0.2355 - val_acc: 0.9110 - 22s/epoch - 217ms/step\n",
      "Epoch 26/30\n",
      "100/100 - 24s - loss: 0.2916 - acc: 0.8730 - val_loss: 0.2375 - val_acc: 0.9090 - 24s/epoch - 238ms/step\n",
      "Epoch 27/30\n",
      "100/100 - 23s - loss: 0.2770 - acc: 0.8815 - val_loss: 0.2360 - val_acc: 0.9100 - 23s/epoch - 232ms/step\n",
      "Epoch 28/30\n",
      "100/100 - 22s - loss: 0.2891 - acc: 0.8760 - val_loss: 0.2376 - val_acc: 0.9090 - 22s/epoch - 221ms/step\n",
      "Epoch 29/30\n",
      "100/100 - 23s - loss: 0.2750 - acc: 0.8890 - val_loss: 0.2338 - val_acc: 0.9140 - 23s/epoch - 228ms/step\n",
      "Epoch 30/30\n",
      "100/100 - 26s - loss: 0.2840 - acc: 0.8805 - val_loss: 0.2333 - val_acc: 0.9170 - 26s/epoch - 257ms/step\n"
     ]
    }
   ]
  },
  {
   "cell_type": "code",
   "source": [
    "model.save('Convnets with feature extraction pretrained cats_and_dogs_small_convebase_trainableOFF.h5')"
   ],
   "metadata": {
    "id": "G_vARxWmkWyx"
   },
   "execution_count": null,
   "outputs": []
  },
  {
   "cell_type": "code",
   "source": [
    "# Plot 91% accuracy\n",
    "import matplotlib.pyplot as plt\n",
    "acc = history.history['acc']\n",
    "val_acc = history.history['val_acc']\n",
    "loss = history.history['loss']\n",
    "val_loss = history.history['val_loss']\n",
    "\n",
    "epochs = range(len(acc))\n",
    "\n",
    "plt.plot(epochs, acc, 'bo', label='Training acc')\n",
    "plt.plot(epochs, val_acc, 'b', label='Validation acc')\n",
    "plt.title('Training and validation accuracy')\n",
    "plt.legend()\n",
    "\n",
    "plt.figure()\n",
    "\n",
    "plt.plot(epochs, loss, 'bo', label='Training loss')\n",
    "plt.plot(epochs, val_loss, 'b', label='Validation loss')\n",
    "plt.title('Training and validation loss')\n",
    "plt.legend()\n",
    "\n",
    "plt.show()"
   ],
   "metadata": {
    "colab": {
     "base_uri": "https://localhost:8080/",
     "height": 545
    },
    "id": "URxvXGvEkjUm",
    "outputId": "35888d59-e033-4909-f518-06c0c7f8a9d4"
   },
   "execution_count": null,
   "outputs": [
    {
     "output_type": "display_data",
     "data": {
      "text/plain": [
       "<Figure size 432x288 with 1 Axes>"
      ],
      "image/png": "[encoded data removed]"
     },
     "metadata": {
      "needs_background": "light"
     }
    },
    {
     "output_type": "display_data",
     "data": {
      "text/plain": [
       "<Figure size 432x288 with 1 Axes>"
      ],
      "image/png": "[encoded data removed]"
     },
     "metadata": {
      "needs_background": "light"
     }
    }
   ]
  },
  {
   "cell_type": "markdown",
   "source": [
    "# Fine-tuning\n",
    "Consists in unfreezing **a few** of the **top layers** of a frozen model base used for feature extraction, and jointly training both the newly added part of the model (in our case, the fully-connected classifier) and these top layers. \n",
    "\n",
    "This is called \"fine-tuning\" because it **slightly adjusts** the **more abstract representations** of the model being reused, in order to make them more relevant for the problem at hand.\n",
    "\n",
    "1) Add your custom network on top of an already trained base network.  \n",
    "2) Freeze the base network.  \n",
    "3) Train the part you added.  \n",
    "4) Unfreeze some layers in the base network.  \n",
    "5) Jointly train both these layers and the part you added.\n"
   ],
   "metadata": {
    "id": "Mg9jEMIvo-Me"
   }
  },
  {
   "cell_type": "code",
   "source": [
    "conv_base.summary()"
   ],
   "metadata": {
    "colab": {
     "base_uri": "https://localhost:8080/"
    },
    "id": "dMJCG1Joo9nl",
    "outputId": "e9f1acfb-fdb0-4204-dff0-0eee3d8b158f"
   },
   "execution_count": null,
   "outputs": [
    {
     "output_type": "stream",
     "name": "stdout",
     "text": [
      "Model: \"vgg16\"\n",
      "_________________________________________________________________\n",
      " Layer (type)                Output Shape              Param #   \n",
      "=================================================================\n",
      " input_1 (InputLayer)        [(None, 150, 150, 3)]     0         \n",
      "                                                                 \n",
      " block1_conv1 (Conv2D)       (None, 150, 150, 64)      1792      \n",
      "                                                                 \n",
      " block1_conv2 (Conv2D)       (None, 150, 150, 64)      36928     \n",
      "                                                                 \n",
      " block1_pool (MaxPooling2D)  (None, 75, 75, 64)        0         \n",
      "                                                                 \n",
      " block2_conv1 (Conv2D)       (None, 75, 75, 128)       73856     \n",
      "                                                                 \n",
      " block2_conv2 (Conv2D)       (None, 75, 75, 128)       147584    \n",
      "                                                                 \n",
      " block2_pool (MaxPooling2D)  (None, 37, 37, 128)       0         \n",
      "                                                                 \n",
      " block3_conv1 (Conv2D)       (None, 37, 37, 256)       295168    \n",
      "                                                                 \n",
      " block3_conv2 (Conv2D)       (None, 37, 37, 256)       590080    \n",
      "                                                                 \n",
      " block3_conv3 (Conv2D)       (None, 37, 37, 256)       590080    \n",
      "                                                                 \n",
      " block3_pool (MaxPooling2D)  (None, 18, 18, 256)       0         \n",
      "                                                                 \n",
      " block4_conv1 (Conv2D)       (None, 18, 18, 512)       1180160   \n",
      "                                                                 \n",
      " block4_conv2 (Conv2D)       (None, 18, 18, 512)       2359808   \n",
      "                                                                 \n",
      " block4_conv3 (Conv2D)       (None, 18, 18, 512)       2359808   \n",
      "                                                                 \n",
      " block4_pool (MaxPooling2D)  (None, 9, 9, 512)         0         \n",
      "                                                                 \n",
      " block5_conv1 (Conv2D)       (None, 9, 9, 512)         2359808   \n",
      "                                                                 \n",
      " block5_conv2 (Conv2D)       (None, 9, 9, 512)         2359808   \n",
      "                                                                 \n",
      " block5_conv3 (Conv2D)       (None, 9, 9, 512)         2359808   \n",
      "                                                                 \n",
      " block5_pool (MaxPooling2D)  (None, 4, 4, 512)         0         \n",
      "                                                                 \n",
      "=================================================================\n",
      "Total params: 14,714,688\n",
      "Trainable params: 0\n",
      "Non-trainable params: 14,714,688\n",
      "_________________________________________________________________\n"
     ]
    }
   ]
  },
  {
   "cell_type": "code",
   "source": [
    "conv_base.trainable = True\n",
    "\n",
    "set_trainable = False\n",
    "for layer in conv_base.layers:\n",
    "    if layer.name == 'block5_conv1':\n",
    "        set_trainable = True\n",
    "    if set_trainable:\n",
    "        layer.trainable = True\n",
    "    else:\n",
    "        layer.trainable = False"
   ],
   "metadata": {
    "id": "Hjt8fSWgpvJP"
   },
   "execution_count": null,
   "outputs": []
  },
  {
   "cell_type": "code",
   "source": [
    "# Training 94%\n",
    "model.compile(loss='binary_crossentropy',\n",
    "              optimizer=optimizers.RMSprop(lr=1e-5),\n",
    "              metrics=['acc'])\n",
    "\n",
    "history = model.fit_generator(\n",
    "      train_generator,\n",
    "      steps_per_epoch=100,\n",
    "      epochs=100,\n",
    "      validation_data=validation_generator,\n",
    "      validation_steps=50)"
   ],
   "metadata": {
    "colab": {
     "base_uri": "https://localhost:8080/"
    },
    "id": "QbxVRss9p1c0",
    "outputId": "5747f0fd-6b33-4840-bf2c-29bd5708d2ed"
   },
   "execution_count": null,
   "outputs": [
    {
     "output_type": "stream",
     "name": "stderr",
     "text": [
      "/usr/local/lib/python3.7/dist-packages/ipykernel_launcher.py:10: UserWarning: `Model.fit_generator` is deprecated and will be removed in a future version. Please use `Model.fit`, which supports generators.\n",
      "  # Remove the CWD from sys.path while we load stuff.\n"
     ]
    },
    {
     "output_type": "stream",
     "name": "stdout",
     "text": [
      "Epoch 1/100\n",
      "100/100 [==============================] - 25s 229ms/step - loss: 0.2785 - acc: 0.8855 - val_loss: 0.2194 - val_acc: 0.9170\n",
      "Epoch 2/100\n",
      "100/100 [==============================] - 25s 251ms/step - loss: 0.2660 - acc: 0.8775 - val_loss: 0.2589 - val_acc: 0.9000\n",
      "Epoch 3/100\n",
      "100/100 [==============================] - 25s 255ms/step - loss: 0.2443 - acc: 0.9020 - val_loss: 0.2113 - val_acc: 0.9210\n",
      "Epoch 4/100\n",
      "100/100 [==============================] - 24s 237ms/step - loss: 0.2324 - acc: 0.8975 - val_loss: 0.1950 - val_acc: 0.9250\n",
      "Epoch 5/100\n",
      "100/100 [==============================] - 24s 236ms/step - loss: 0.1974 - acc: 0.9215 - val_loss: 0.1942 - val_acc: 0.9240\n",
      "Epoch 6/100\n",
      "100/100 [==============================] - 23s 225ms/step - loss: 0.1920 - acc: 0.9215 - val_loss: 0.1976 - val_acc: 0.9240\n",
      "Epoch 7/100\n",
      "100/100 [==============================] - 23s 227ms/step - loss: 0.2031 - acc: 0.9170 - val_loss: 0.1849 - val_acc: 0.9310\n",
      "Epoch 8/100\n",
      "100/100 [==============================] - 28s 284ms/step - loss: 0.1739 - acc: 0.9285 - val_loss: 0.2201 - val_acc: 0.9160\n",
      "Epoch 9/100\n",
      "100/100 [==============================] - 26s 260ms/step - loss: 0.1609 - acc: 0.9350 - val_loss: 0.1977 - val_acc: 0.9280\n",
      "Epoch 10/100\n",
      "100/100 [==============================] - 25s 253ms/step - loss: 0.1470 - acc: 0.9395 - val_loss: 0.1860 - val_acc: 0.9290\n",
      "Epoch 11/100\n",
      "100/100 [==============================] - 23s 228ms/step - loss: 0.1434 - acc: 0.9430 - val_loss: 0.1751 - val_acc: 0.9310\n",
      "Epoch 12/100\n",
      "100/100 [==============================] - 23s 230ms/step - loss: 0.1342 - acc: 0.9435 - val_loss: 0.1763 - val_acc: 0.9350\n",
      "Epoch 13/100\n",
      "100/100 [==============================] - 23s 229ms/step - loss: 0.1262 - acc: 0.9475 - val_loss: 0.1844 - val_acc: 0.9370\n",
      "Epoch 14/100\n",
      "100/100 [==============================] - 23s 226ms/step - loss: 0.1225 - acc: 0.9500 - val_loss: 0.1755 - val_acc: 0.9410\n",
      "Epoch 15/100\n",
      "100/100 [==============================] - 23s 227ms/step - loss: 0.1068 - acc: 0.9525 - val_loss: 0.2071 - val_acc: 0.9300\n",
      "Epoch 16/100\n",
      "100/100 [==============================] - 24s 237ms/step - loss: 0.1272 - acc: 0.9520 - val_loss: 0.1922 - val_acc: 0.9340\n",
      "Epoch 17/100\n",
      "100/100 [==============================] - 23s 231ms/step - loss: 0.1118 - acc: 0.9545 - val_loss: 0.1804 - val_acc: 0.9340\n",
      "Epoch 18/100\n",
      "100/100 [==============================] - 23s 226ms/step - loss: 0.1013 - acc: 0.9600 - val_loss: 0.1771 - val_acc: 0.9320\n",
      "Epoch 19/100\n",
      "100/100 [==============================] - 23s 225ms/step - loss: 0.0920 - acc: 0.9685 - val_loss: 0.2222 - val_acc: 0.9290\n",
      "Epoch 20/100\n",
      "100/100 [==============================] - 23s 226ms/step - loss: 0.1223 - acc: 0.9520 - val_loss: 0.2088 - val_acc: 0.9350\n",
      "Epoch 21/100\n",
      "100/100 [==============================] - 23s 225ms/step - loss: 0.1074 - acc: 0.9620 - val_loss: 0.1836 - val_acc: 0.9380\n",
      "Epoch 22/100\n",
      "100/100 [==============================] - 23s 230ms/step - loss: 0.0858 - acc: 0.9680 - val_loss: 0.1943 - val_acc: 0.9380\n",
      "Epoch 23/100\n",
      "100/100 [==============================] - 23s 228ms/step - loss: 0.0823 - acc: 0.9670 - val_loss: 0.2438 - val_acc: 0.9230\n",
      "Epoch 24/100\n",
      "100/100 [==============================] - 25s 252ms/step - loss: 0.0782 - acc: 0.9670 - val_loss: 0.2597 - val_acc: 0.9160\n",
      "Epoch 25/100\n",
      "100/100 [==============================] - 24s 235ms/step - loss: 0.0865 - acc: 0.9660 - val_loss: 0.3790 - val_acc: 0.8960\n",
      "Epoch 26/100\n",
      "100/100 [==============================] - 25s 249ms/step - loss: 0.0700 - acc: 0.9740 - val_loss: 0.1901 - val_acc: 0.9320\n",
      "Epoch 27/100\n",
      "100/100 [==============================] - 26s 260ms/step - loss: 0.0722 - acc: 0.9715 - val_loss: 0.1941 - val_acc: 0.9350\n",
      "Epoch 28/100\n",
      "100/100 [==============================] - 23s 226ms/step - loss: 0.0728 - acc: 0.9740 - val_loss: 0.1914 - val_acc: 0.9370\n",
      "Epoch 29/100\n",
      "100/100 [==============================] - 23s 225ms/step - loss: 0.0562 - acc: 0.9790 - val_loss: 0.1861 - val_acc: 0.9380\n",
      "Epoch 30/100\n",
      "100/100 [==============================] - 23s 234ms/step - loss: 0.0743 - acc: 0.9715 - val_loss: 0.2468 - val_acc: 0.9270\n",
      "Epoch 31/100\n",
      "100/100 [==============================] - 26s 259ms/step - loss: 0.0570 - acc: 0.9815 - val_loss: 0.2037 - val_acc: 0.9350\n",
      "Epoch 32/100\n",
      "100/100 [==============================] - 24s 235ms/step - loss: 0.0586 - acc: 0.9790 - val_loss: 0.1935 - val_acc: 0.9390\n",
      "Epoch 33/100\n",
      "100/100 [==============================] - 23s 226ms/step - loss: 0.0755 - acc: 0.9715 - val_loss: 0.1911 - val_acc: 0.9400\n",
      "Epoch 34/100\n",
      "100/100 [==============================] - 29s 286ms/step - loss: 0.0608 - acc: 0.9800 - val_loss: 0.1857 - val_acc: 0.9390\n",
      "Epoch 35/100\n",
      "100/100 [==============================] - 23s 230ms/step - loss: 0.0528 - acc: 0.9820 - val_loss: 0.1975 - val_acc: 0.9380\n",
      "Epoch 36/100\n",
      "100/100 [==============================] - 23s 226ms/step - loss: 0.0675 - acc: 0.9740 - val_loss: 0.1907 - val_acc: 0.9430\n",
      "Epoch 37/100\n",
      "100/100 [==============================] - 23s 228ms/step - loss: 0.0542 - acc: 0.9800 - val_loss: 0.2017 - val_acc: 0.9420\n",
      "Epoch 38/100\n",
      "100/100 [==============================] - 24s 244ms/step - loss: 0.0616 - acc: 0.9780 - val_loss: 0.2103 - val_acc: 0.9380\n",
      "Epoch 39/100\n",
      "100/100 [==============================] - 23s 227ms/step - loss: 0.0538 - acc: 0.9780 - val_loss: 0.1823 - val_acc: 0.9430\n",
      "Epoch 40/100\n",
      "100/100 [==============================] - 23s 228ms/step - loss: 0.0442 - acc: 0.9835 - val_loss: 0.2388 - val_acc: 0.9370\n",
      "Epoch 41/100\n",
      "100/100 [==============================] - 23s 227ms/step - loss: 0.0559 - acc: 0.9805 - val_loss: 0.2225 - val_acc: 0.9290\n",
      "Epoch 42/100\n",
      "100/100 [==============================] - 23s 226ms/step - loss: 0.0523 - acc: 0.9805 - val_loss: 0.2057 - val_acc: 0.9380\n",
      "Epoch 43/100\n",
      "100/100 [==============================] - 23s 227ms/step - loss: 0.0458 - acc: 0.9820 - val_loss: 0.2216 - val_acc: 0.9360\n",
      "Epoch 44/100\n",
      "100/100 [==============================] - 23s 225ms/step - loss: 0.0389 - acc: 0.9855 - val_loss: 0.2151 - val_acc: 0.9420\n",
      "Epoch 45/100\n",
      "100/100 [==============================] - 23s 225ms/step - loss: 0.0431 - acc: 0.9840 - val_loss: 0.2207 - val_acc: 0.9400\n",
      "Epoch 46/100\n",
      "100/100 [==============================] - 23s 226ms/step - loss: 0.0578 - acc: 0.9805 - val_loss: 0.2101 - val_acc: 0.9340\n",
      "Epoch 47/100\n",
      "100/100 [==============================] - 24s 237ms/step - loss: 0.0438 - acc: 0.9870 - val_loss: 0.2484 - val_acc: 0.9390\n",
      "Epoch 48/100\n",
      "100/100 [==============================] - 23s 227ms/step - loss: 0.0474 - acc: 0.9830 - val_loss: 0.2692 - val_acc: 0.9340\n",
      "Epoch 49/100\n",
      "100/100 [==============================] - 23s 225ms/step - loss: 0.0270 - acc: 0.9900 - val_loss: 0.2633 - val_acc: 0.9300\n",
      "Epoch 50/100\n",
      "100/100 [==============================] - 23s 226ms/step - loss: 0.0354 - acc: 0.9885 - val_loss: 0.2334 - val_acc: 0.9380\n",
      "Epoch 51/100\n",
      "100/100 [==============================] - 23s 226ms/step - loss: 0.0370 - acc: 0.9840 - val_loss: 0.2489 - val_acc: 0.9370\n",
      "Epoch 52/100\n",
      "100/100 [==============================] - 22s 224ms/step - loss: 0.0413 - acc: 0.9855 - val_loss: 0.2638 - val_acc: 0.9340\n",
      "Epoch 53/100\n",
      "100/100 [==============================] - 23s 226ms/step - loss: 0.0461 - acc: 0.9800 - val_loss: 0.2158 - val_acc: 0.9340\n",
      "Epoch 54/100\n",
      "100/100 [==============================] - 24s 237ms/step - loss: 0.0362 - acc: 0.9870 - val_loss: 0.2284 - val_acc: 0.9360\n",
      "Epoch 55/100\n",
      "100/100 [==============================] - 22s 225ms/step - loss: 0.0423 - acc: 0.9845 - val_loss: 0.3042 - val_acc: 0.9260\n",
      "Epoch 56/100\n",
      "100/100 [==============================] - 23s 226ms/step - loss: 0.0359 - acc: 0.9880 - val_loss: 0.2736 - val_acc: 0.9300\n",
      "Epoch 57/100\n",
      "100/100 [==============================] - 23s 226ms/step - loss: 0.0410 - acc: 0.9855 - val_loss: 0.2091 - val_acc: 0.9450\n",
      "Epoch 58/100\n",
      "100/100 [==============================] - 23s 226ms/step - loss: 0.0384 - acc: 0.9875 - val_loss: 0.2660 - val_acc: 0.9330\n",
      "Epoch 59/100\n",
      "100/100 [==============================] - 23s 225ms/step - loss: 0.0386 - acc: 0.9875 - val_loss: 0.2384 - val_acc: 0.9350\n",
      "Epoch 60/100\n",
      "100/100 [==============================] - 24s 239ms/step - loss: 0.0342 - acc: 0.9915 - val_loss: 0.4032 - val_acc: 0.9170\n",
      "Epoch 61/100\n",
      "100/100 [==============================] - 23s 227ms/step - loss: 0.0284 - acc: 0.9905 - val_loss: 0.2990 - val_acc: 0.9270\n",
      "Epoch 62/100\n",
      "100/100 [==============================] - 23s 225ms/step - loss: 0.0364 - acc: 0.9880 - val_loss: 0.2267 - val_acc: 0.9410\n",
      "Epoch 63/100\n",
      "100/100 [==============================] - 23s 226ms/step - loss: 0.0241 - acc: 0.9895 - val_loss: 0.3328 - val_acc: 0.9230\n",
      "Epoch 64/100\n",
      "100/100 [==============================] - 23s 226ms/step - loss: 0.0403 - acc: 0.9870 - val_loss: 0.2009 - val_acc: 0.9450\n",
      "Epoch 65/100\n",
      "100/100 [==============================] - 22s 224ms/step - loss: 0.0259 - acc: 0.9890 - val_loss: 0.2385 - val_acc: 0.9410\n",
      "Epoch 66/100\n",
      "100/100 [==============================] - 23s 226ms/step - loss: 0.0318 - acc: 0.9905 - val_loss: 0.2419 - val_acc: 0.9370\n",
      "Epoch 67/100\n",
      "100/100 [==============================] - 24s 236ms/step - loss: 0.0351 - acc: 0.9900 - val_loss: 0.2367 - val_acc: 0.9350\n",
      "Epoch 68/100\n",
      "100/100 [==============================] - 23s 227ms/step - loss: 0.0304 - acc: 0.9900 - val_loss: 0.2203 - val_acc: 0.9380\n",
      "Epoch 69/100\n",
      "100/100 [==============================] - 23s 225ms/step - loss: 0.0217 - acc: 0.9935 - val_loss: 0.2266 - val_acc: 0.9410\n",
      "Epoch 70/100\n",
      "100/100 [==============================] - 23s 227ms/step - loss: 0.0263 - acc: 0.9895 - val_loss: 0.2639 - val_acc: 0.9400\n",
      "Epoch 71/100\n",
      "100/100 [==============================] - 23s 227ms/step - loss: 0.0259 - acc: 0.9925 - val_loss: 0.2875 - val_acc: 0.9330\n",
      "Epoch 72/100\n",
      "100/100 [==============================] - 23s 226ms/step - loss: 0.0205 - acc: 0.9930 - val_loss: 0.3671 - val_acc: 0.9220\n",
      "Epoch 73/100\n",
      "100/100 [==============================] - 23s 226ms/step - loss: 0.0250 - acc: 0.9915 - val_loss: 0.2575 - val_acc: 0.9370\n",
      "Epoch 74/100\n",
      "100/100 [==============================] - 24s 240ms/step - loss: 0.0261 - acc: 0.9895 - val_loss: 0.2011 - val_acc: 0.9460\n",
      "Epoch 75/100\n",
      "100/100 [==============================] - 23s 229ms/step - loss: 0.0209 - acc: 0.9940 - val_loss: 0.2541 - val_acc: 0.9390\n",
      "Epoch 76/100\n",
      "100/100 [==============================] - 22s 224ms/step - loss: 0.0259 - acc: 0.9900 - val_loss: 0.2267 - val_acc: 0.9480\n",
      "Epoch 77/100\n",
      "100/100 [==============================] - 22s 224ms/step - loss: 0.0199 - acc: 0.9930 - val_loss: 0.3272 - val_acc: 0.9340\n",
      "Epoch 78/100\n",
      "100/100 [==============================] - 23s 226ms/step - loss: 0.0227 - acc: 0.9920 - val_loss: 0.2381 - val_acc: 0.9450\n",
      "Epoch 79/100\n",
      "100/100 [==============================] - 23s 225ms/step - loss: 0.0269 - acc: 0.9910 - val_loss: 0.2316 - val_acc: 0.9440\n",
      "Epoch 80/100\n",
      "100/100 [==============================] - 23s 225ms/step - loss: 0.0230 - acc: 0.9920 - val_loss: 0.2339 - val_acc: 0.9410\n",
      "Epoch 81/100\n",
      "100/100 [==============================] - 24s 236ms/step - loss: 0.0182 - acc: 0.9940 - val_loss: 0.3354 - val_acc: 0.9270\n",
      "Epoch 82/100\n",
      "100/100 [==============================] - 23s 226ms/step - loss: 0.0216 - acc: 0.9925 - val_loss: 0.2315 - val_acc: 0.9380\n",
      "Epoch 83/100\n",
      "100/100 [==============================] - 23s 227ms/step - loss: 0.0159 - acc: 0.9915 - val_loss: 0.2451 - val_acc: 0.9450\n",
      "Epoch 84/100\n",
      "100/100 [==============================] - 23s 227ms/step - loss: 0.0205 - acc: 0.9945 - val_loss: 0.2538 - val_acc: 0.9440\n",
      "Epoch 85/100\n",
      "100/100 [==============================] - 23s 232ms/step - loss: 0.0176 - acc: 0.9945 - val_loss: 0.2816 - val_acc: 0.9420\n",
      "Epoch 86/100\n",
      "100/100 [==============================] - 23s 230ms/step - loss: 0.0273 - acc: 0.9880 - val_loss: 0.2448 - val_acc: 0.9450\n",
      "Epoch 87/100\n",
      "100/100 [==============================] - 23s 230ms/step - loss: 0.0303 - acc: 0.9900 - val_loss: 0.2600 - val_acc: 0.9390\n",
      "Epoch 88/100\n",
      "100/100 [==============================] - 24s 245ms/step - loss: 0.0114 - acc: 0.9970 - val_loss: 0.2708 - val_acc: 0.9350\n",
      "Epoch 89/100\n",
      "100/100 [==============================] - 23s 232ms/step - loss: 0.0186 - acc: 0.9935 - val_loss: 0.2649 - val_acc: 0.9410\n",
      "Epoch 90/100\n",
      "100/100 [==============================] - 23s 229ms/step - loss: 0.0217 - acc: 0.9940 - val_loss: 0.2713 - val_acc: 0.9390\n",
      "Epoch 91/100\n",
      "100/100 [==============================] - 23s 230ms/step - loss: 0.0209 - acc: 0.9915 - val_loss: 0.3155 - val_acc: 0.9350\n",
      "Epoch 92/100\n",
      "100/100 [==============================] - 23s 231ms/step - loss: 0.0198 - acc: 0.9940 - val_loss: 0.2485 - val_acc: 0.9450\n",
      "Epoch 93/100\n",
      "100/100 [==============================] - 23s 228ms/step - loss: 0.0201 - acc: 0.9920 - val_loss: 0.3673 - val_acc: 0.9320\n",
      "Epoch 94/100\n",
      "100/100 [==============================] - 23s 228ms/step - loss: 0.0174 - acc: 0.9940 - val_loss: 0.3004 - val_acc: 0.9370\n",
      "Epoch 95/100\n",
      "100/100 [==============================] - 24s 240ms/step - loss: 0.0199 - acc: 0.9930 - val_loss: 0.2271 - val_acc: 0.9410\n",
      "Epoch 96/100\n",
      "100/100 [==============================] - 23s 232ms/step - loss: 0.0096 - acc: 0.9965 - val_loss: 0.2454 - val_acc: 0.9430\n",
      "Epoch 97/100\n",
      "100/100 [==============================] - 23s 232ms/step - loss: 0.0197 - acc: 0.9930 - val_loss: 0.3226 - val_acc: 0.9410\n",
      "Epoch 98/100\n",
      "100/100 [==============================] - 23s 227ms/step - loss: 0.0167 - acc: 0.9940 - val_loss: 0.2694 - val_acc: 0.9440\n",
      "Epoch 99/100\n",
      "100/100 [==============================] - 23s 227ms/step - loss: 0.0164 - acc: 0.9940 - val_loss: 0.2937 - val_acc: 0.9420\n",
      "Epoch 100/100\n",
      "100/100 [==============================] - 23s 227ms/step - loss: 0.0154 - acc: 0.9940 - val_loss: 0.2888 - val_acc: 0.9380\n"
     ]
    }
   ]
  },
  {
   "cell_type": "code",
   "source": [
    "model.save('Convnets with fineTuning pretrained cats_and_dogs_small_2.h5')"
   ],
   "metadata": {
    "id": "CmFUl0klqBIO"
   },
   "execution_count": null,
   "outputs": []
  },
  {
   "cell_type": "code",
   "source": [
    "# normal plotting, result unreadable\n",
    "acc = history.history['acc']\n",
    "val_acc = history.history['val_acc']\n",
    "loss = history.history['loss']\n",
    "val_loss = history.history['val_loss']\n",
    "\n",
    "epochs = range(len(acc))\n",
    "\n",
    "plt.plot(epochs, acc, 'bo', label='Training acc')\n",
    "plt.plot(epochs, val_acc, 'b', label='Validation acc')\n",
    "plt.title('Training and validation accuracy')\n",
    "plt.legend()\n",
    "\n",
    "plt.figure()\n",
    "\n",
    "plt.plot(epochs, loss, 'bo', label='Training loss')\n",
    "plt.plot(epochs, val_loss, 'b', label='Validation loss')\n",
    "plt.title('Training and validation loss')\n",
    "plt.legend()\n",
    "\n",
    "plt.show()"
   ],
   "metadata": {
    "colab": {
     "base_uri": "https://localhost:8080/",
     "height": 545
    },
    "id": "fyyLSqiRqUmA",
    "outputId": "5bca07cc-ca06-401d-adb4-eb12b125e31a"
   },
   "execution_count": null,
   "outputs": [
    {
     "output_type": "display_data",
     "data": {
      "text/plain": [
       "<Figure size 432x288 with 1 Axes>"
      ],
      "image/png": "[encoded data removed]"
     },
     "metadata": {
      "needs_background": "light"
     }
    },
    {
     "output_type": "display_data",
     "data": {
      "text/plain": [
       "<Figure size 432x288 with 1 Axes>"
      ],
      "image/png": "[encoded data removed]"
     },
     "metadata": {
      "needs_background": "light"
     }
    }
   ]
  },
  {
   "cell_type": "code",
   "source": [
    "# Optimized plotting\n",
    "def smooth_curve(points, factor=0.8):\n",
    "  smoothed_points = []\n",
    "  for point in points:\n",
    "    if smoothed_points:\n",
    "      previous = smoothed_points[-1]\n",
    "      smoothed_points.append(previous * factor + point * (1 - factor))\n",
    "    else:\n",
    "      smoothed_points.append(point)\n",
    "  return smoothed_points\n",
    "\n",
    "plt.plot(epochs,\n",
    "         smooth_curve(acc), 'bo', label='Smoothed training acc')\n",
    "plt.plot(epochs,\n",
    "         smooth_curve(val_acc), 'b', label='Smoothed validation acc')\n",
    "plt.title('Training and validation accuracy')\n",
    "plt.legend()\n",
    "\n",
    "plt.figure()\n",
    "\n",
    "plt.plot(epochs,\n",
    "         smooth_curve(loss), 'bo', label='Smoothed training loss')\n",
    "plt.plot(epochs,\n",
    "         smooth_curve(val_loss), 'b', label='Smoothed validation loss')\n",
    "plt.title('Training and validation loss')\n",
    "plt.legend()\n",
    "\n",
    "plt.show()"
   ],
   "metadata": {
    "colab": {
     "base_uri": "https://localhost:8080/",
     "height": 545
    },
    "id": "CcMNxN7AqlmR",
    "outputId": "ae431143-775d-44ed-9947-01dc827b4743"
   },
   "execution_count": null,
   "outputs": [
    {
     "output_type": "display_data",
     "data": {
      "text/plain": [
       "<Figure size 432x288 with 1 Axes>"
      ],
      "image/png": "[encoded data removed]"
     },
     "metadata": {
      "needs_background": "light"
     }
    },
    {
     "output_type": "display_data",
     "data": {
      "text/plain": [
       "<Figure size 432x288 with 1 Axes>"
      ],
      "image/png": "[encoded data removed]"
     },
     "metadata": {
      "needs_background": "light"
     }
    }
   ]
  },
  {
   "cell_type": "markdown",
   "source": [
    "These curves look much cleaner and more stable. Accuracy has 2-3% absolute improvement(91%-94%) while loss curve does not show any real improvement (in fact, it is deteriorating). \n",
    "\n",
    "# !!!How could accuracy improve if the loss isn't decreasing? \n",
    "The answer is: what we display is an average of pointwise loss values, but what actually matters for accuracy is the distribution of the loss values, not their average, since accuracy is the result of a binary thresholding of the class probability predicted by the model. The model may still be improving even if this isn't reflected in the average loss."
   ],
   "metadata": {
    "id": "TxgFUMsBsDo2"
   }
  },
  {
   "cell_type": "code",
   "source": [
    "# evaluate this model on the test data: 97% on 2000(10%) images\n",
    "test_generator = test_datagen.flow_from_directory(\n",
    "        test_dir,\n",
    "        target_size=(150, 150),\n",
    "        batch_size=20,\n",
    "        class_mode='binary')\n",
    "\n",
    "test_loss, test_acc = model.evaluate_generator(test_generator, steps=50)\n",
    "print('test acc:', test_acc)"
   ],
   "metadata": {
    "colab": {
     "base_uri": "https://localhost:8080/"
    },
    "id": "ENjW72DOsygq",
    "outputId": "28b31252-b9aa-4d99-bc78-41a67202c0e9"
   },
   "execution_count": null,
   "outputs": [
    {
     "output_type": "stream",
     "name": "stdout",
     "text": [
      "Found 1000 images belonging to 2 classes.\n"
     ]
    },
    {
     "output_type": "stream",
     "name": "stderr",
     "text": [
      "/usr/local/lib/python3.7/dist-packages/ipykernel_launcher.py:8: UserWarning: `Model.evaluate_generator` is deprecated and will be removed in a future version. Please use `Model.evaluate`, which supports generators.\n",
      "  \n"
     ]
    },
    {
     "output_type": "stream",
     "name": "stdout",
     "text": [
      "test acc: 0.9380000233650208\n"
     ]
    }
   ]
  }
 ]
}